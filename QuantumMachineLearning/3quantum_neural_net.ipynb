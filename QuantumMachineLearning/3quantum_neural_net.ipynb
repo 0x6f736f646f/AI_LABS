{
 "cells": [
  {
   "cell_type": "markdown",
   "metadata": {
    "colab_type": "text",
    "id": "view-in-github"
   },
   "source": [
    "<a href=\"https://colab.research.google.com/github/0x6f736f646f/AI_LABS/blob/master/QuantumMachineLearning/3quantum_neural_net.ipynb\" target=\"_parent\"><img src=\"https://colab.research.google.com/assets/colab-badge.svg\" alt=\"Open In Colab\"/></a>"
   ]
  },
  {
   "cell_type": "markdown",
   "metadata": {
    "colab_type": "text",
    "id": "CrjOaTphQMXm"
   },
   "source": [
    "\n",
    "\n",
    "Function fitting with a quantum neural network"
   ]
  },
  {
   "cell_type": "code",
   "execution_count": 1,
   "metadata": {
    "colab": {
     "base_uri": "https://localhost:8080/",
     "height": 387
    },
    "colab_type": "code",
    "id": "mOHzx7tEQMX0",
    "outputId": "9bc83425-d99d-416b-e1e4-0869bfb88e75"
   },
   "outputs": [],
   "source": [
    "import pennylane as qml\n",
    "from pennylane import numpy as np\n",
    "from pennylane.optimize import AdamOptimizer\n",
    "%matplotlib inline"
   ]
  },
  {
   "cell_type": "markdown",
   "metadata": {
    "colab_type": "text",
    "id": "9twYwOv4QMYX"
   },
   "source": [
    "The device we use is the Strawberry Fields simulator, this time with\n",
    "only one quantum mode (or ``wire``). You will need to have the\n",
    "Strawberry Fields plugin for PennyLane installed.\n",
    "\n"
   ]
  },
  {
   "cell_type": "code",
   "execution_count": 2,
   "metadata": {
    "colab": {
     "base_uri": "https://localhost:8080/",
     "height": 290
    },
    "colab_type": "code",
    "collapsed": false,
    "id": "XSoFKkcfQMYh",
    "jupyter": {
     "outputs_hidden": false
    },
    "outputId": "763a0358-248c-4c3e-ba53-54b9153caa73"
   },
   "outputs": [],
   "source": [
    "dev = qml.device(\"strawberryfields.fock\", wires=1, cutoff_dim=10)"
   ]
  },
  {
   "cell_type": "markdown",
   "metadata": {
    "colab_type": "text",
    "id": "U_hq41ASQMZJ"
   },
   "source": [
    "Quantum node\n",
    "~~~~~~~~~~~~\n",
    "\n",
    "For a single quantum mode, each layer of the variational circuit is\n",
    "defined as:\n",
    "\n"
   ]
  },
  {
   "cell_type": "code",
   "execution_count": 3,
   "metadata": {
    "colab": {},
    "colab_type": "code",
    "collapsed": false,
    "id": "48Mxpg5gQMZQ",
    "jupyter": {
     "outputs_hidden": false
    }
   },
   "outputs": [],
   "source": [
    "def layer(v):\n",
    "    # Matrix multiplication of input layer\n",
    "    qml.Rotation(v[0], wires=0)\n",
    "    qml.Squeezing(v[1], 0.0, wires=0)\n",
    "    qml.Rotation(v[2], wires=0)\n",
    "\n",
    "    # Bias\n",
    "    qml.Displacement(v[3], 0.0, wires=0)\n",
    "\n",
    "    # Element-wise nonlinear transformation\n",
    "    qml.Kerr(v[4], wires=0)"
   ]
  },
  {
   "cell_type": "markdown",
   "metadata": {
    "colab_type": "text",
    "id": "seQSf3vSQMZq"
   },
   "source": [
    "The variational circuit in the quantum node first encodes the input into\n",
    "the displacement of the mode, and then executes the layers. The output\n",
    "is the expectation of the x-quadrature.\n",
    "\n"
   ]
  },
  {
   "cell_type": "code",
   "execution_count": 4,
   "metadata": {
    "colab": {
     "base_uri": "https://localhost:8080/",
     "height": 237
    },
    "colab_type": "code",
    "collapsed": false,
    "id": "Ap8paiuvQMZu",
    "jupyter": {
     "outputs_hidden": false
    },
    "outputId": "b8db3f20-bec5-495e-de11-b58f81957a2c"
   },
   "outputs": [],
   "source": [
    "@qml.qnode(dev)\n",
    "def quantum_neural_net(var, x=None):\n",
    "    # Encode input x into quantum state\n",
    "    qml.Displacement(x, 0.0, wires=0)\n",
    "\n",
    "    # \"layer\" subcircuits\n",
    "    for v in var:\n",
    "        layer(v)\n",
    "\n",
    "    return qml.expval(qml.X(0))"
   ]
  },
  {
   "cell_type": "markdown",
   "metadata": {
    "colab_type": "text",
    "id": "dS__t1xlQMZ9"
   },
   "source": [
    "Objective\n",
    "~~~~~~~~~\n",
    "\n",
    "As an objective we take the square loss between target labels and model\n",
    "predictions.\n",
    "\n"
   ]
  },
  {
   "cell_type": "code",
   "execution_count": 5,
   "metadata": {
    "colab": {},
    "colab_type": "code",
    "collapsed": false,
    "id": "Mt55We6CQMaB",
    "jupyter": {
     "outputs_hidden": false
    }
   },
   "outputs": [],
   "source": [
    "def square_loss(labels, predictions):\n",
    "    loss = 0\n",
    "    for l, p in zip(labels, predictions):\n",
    "        loss = loss + (l - p) ** 2\n",
    "\n",
    "    loss = loss / len(labels)\n",
    "    return loss"
   ]
  },
  {
   "cell_type": "markdown",
   "metadata": {
    "colab_type": "text",
    "id": "sFZMXeXLQMaR"
   },
   "source": [
    "In the cost function, we compute the outputs from the variational\n",
    "circuit. Function fitting is a regression problem, and we interpret the\n",
    "expectations from the quantum node as predictions (i.e., without\n",
    "applying postprocessing such as thresholding).\n",
    "\n"
   ]
  },
  {
   "cell_type": "code",
   "execution_count": 6,
   "metadata": {
    "colab": {},
    "colab_type": "code",
    "collapsed": false,
    "id": "D5QHepMIQMaV",
    "jupyter": {
     "outputs_hidden": false
    }
   },
   "outputs": [],
   "source": [
    "def cost(var, features, labels):\n",
    "    preds = [quantum_neural_net(var, x=x) for x in features]\n",
    "    return square_loss(labels, preds)"
   ]
  },
  {
   "cell_type": "markdown",
   "metadata": {
    "colab_type": "text",
    "id": "f4BmZIkbQMah"
   },
   "source": [
    "Optimization\n",
    "~~~~~~~~~~~~\n",
    "\n",
    "We load noisy data samples of a sine function.\n",
    "\n"
   ]
  },
  {
   "cell_type": "code",
   "execution_count": 8,
   "metadata": {
    "colab": {},
    "colab_type": "code",
    "collapsed": false,
    "id": "BNaC3EMtQMal",
    "jupyter": {
     "outputs_hidden": false
    }
   },
   "outputs": [],
   "source": [
    "Xlim = 5\n",
    "noise = np.random.normal(0,0.1,100) # generate noise to add to the function values (Y-values)\n",
    "X = np.arange(-Xlim, Xlim, 0.1)\n",
    "Y = np.sin(X)+noise"
   ]
  },
  {
   "cell_type": "markdown",
   "metadata": {
    "colab_type": "text",
    "id": "mtwVa2jDQMay"
   },
   "source": [
    "Before training a model, let’s examine the data.\n",
    "\n",
    "*Note: For the next cell to work you need the matplotlib library.*\n",
    "\n"
   ]
  },
  {
   "cell_type": "code",
   "execution_count": 9,
   "metadata": {
    "colab": {},
    "colab_type": "code",
    "collapsed": false,
    "id": "IAZpHq5hQMa5",
    "jupyter": {
     "outputs_hidden": false
    }
   },
   "outputs": [
    {
     "data": {
      "image/png": "[encoded data removed]",
      "text/plain": [
       "<Figure size 432x288 with 1 Axes>"
      ]
     },
     "metadata": {
      "needs_background": "light"
     },
     "output_type": "display_data"
    }
   ],
   "source": [
    "import matplotlib.pyplot as plt\n",
    "\n",
    "plt.figure()\n",
    "plt.scatter(X, Y)\n",
    "plt.xlabel(\"x\", fontsize=18)\n",
    "plt.ylabel(\"f(x)\", fontsize=18)\n",
    "plt.tick_params(axis=\"both\", which=\"major\", labelsize=16)\n",
    "plt.tick_params(axis=\"both\", which=\"minor\", labelsize=16)\n",
    "plt.show()"
   ]
  },
  {
   "cell_type": "markdown",
   "metadata": {
    "colab_type": "text",
    "id": "0cMAmmMlQMbL"
   },
   "source": [
    "\n",
    "The network’s weights (called ``var`` here) are initialized with values\n",
    "sampled from a normal distribution. We use 4 layers; performance has\n",
    "been found to plateau at around 6 layers.\n",
    "\n"
   ]
  },
  {
   "cell_type": "code",
   "execution_count": 10,
   "metadata": {
    "colab": {},
    "colab_type": "code",
    "collapsed": false,
    "id": "xM2FlZ3aQMbP",
    "jupyter": {
     "outputs_hidden": false
    }
   },
   "outputs": [
    {
     "name": "stdout",
     "output_type": "stream",
     "text": [
      "[[ 0.08820262  0.02000786  0.0489369   0.11204466  0.0933779 ]\n",
      " [-0.04886389  0.04750442 -0.00756786 -0.00516094  0.02052993]\n",
      " [ 0.00720218  0.07271368  0.03805189  0.00608375  0.02219316]\n",
      " [ 0.01668372  0.07470395 -0.01025791  0.01565339 -0.04270479]]\n"
     ]
    }
   ],
   "source": [
    "np.random.seed(0)\n",
    "num_layers = 4\n",
    "var_init = 0.05 * np.random.randn(num_layers, 5)\n",
    "print(var_init)"
   ]
  },
  {
   "cell_type": "markdown",
   "metadata": {
    "colab_type": "text",
    "id": "Z4HDPB0YQMbc"
   },
   "source": [
    "Using the Adam optimizer, we update the weights for 50 steps (this\n",
    "takes some time). More steps will lead to a better fit.\n",
    "\n"
   ]
  },
  {
   "cell_type": "code",
   "execution_count": 11,
   "metadata": {
    "colab": {},
    "colab_type": "code",
    "collapsed": false,
    "id": "Db7Lh6XJQMbh",
    "jupyter": {
     "outputs_hidden": false
    }
   },
   "outputs": [
    {
     "name": "stdout",
     "output_type": "stream",
     "text": [
      "Iter:     1 | Cost: 0.4059139 \n",
      "Iter:     2 | Cost: 0.3869755 \n",
      "Iter:     3 | Cost: 0.4175333 \n",
      "Iter:     4 | Cost: 0.4639192 \n",
      "Iter:     5 | Cost: 0.5078547 \n",
      "Iter:     6 | Cost: 0.5395922 \n",
      "Iter:     7 | Cost: 0.5550183 \n",
      "Iter:     8 | Cost: 0.5538402 \n",
      "Iter:     9 | Cost: 0.5382563 \n",
      "Iter:    10 | Cost: 0.5119292 \n",
      "Iter:    11 | Cost: 0.4791628 \n",
      "Iter:    12 | Cost: 0.4442221 \n",
      "Iter:    13 | Cost: 0.4107879 \n",
      "Iter:    14 | Cost: 0.3815747 \n",
      "Iter:    15 | Cost: 0.3581569 \n",
      "Iter:    16 | Cost: 0.3410107 \n",
      "Iter:    17 | Cost: 0.3297338 \n",
      "Iter:    18 | Cost: 0.3233572 \n",
      "Iter:    19 | Cost: 0.3206576 \n",
      "Iter:    20 | Cost: 0.3204046 \n",
      "Iter:    21 | Cost: 0.3215171 \n",
      "Iter:    22 | Cost: 0.3231355 \n",
      "Iter:    23 | Cost: 0.3246338 \n",
      "Iter:    24 | Cost: 0.3255981 \n",
      "Iter:    25 | Cost: 0.3257891 \n",
      "Iter:    26 | Cost: 0.3251032 \n",
      "Iter:    27 | Cost: 0.3235368 \n",
      "Iter:    28 | Cost: 0.3211556 \n",
      "Iter:    29 | Cost: 0.3180712 \n",
      "Iter:    30 | Cost: 0.3144218 \n",
      "Iter:    31 | Cost: 0.3103576 \n",
      "Iter:    32 | Cost: 0.3060300 \n",
      "Iter:    33 | Cost: 0.3015830 \n",
      "Iter:    34 | Cost: 0.2971477 \n",
      "Iter:    35 | Cost: 0.2928376 \n",
      "Iter:    36 | Cost: 0.2887460 \n",
      "Iter:    37 | Cost: 0.2849443 \n",
      "Iter:    38 | Cost: 0.2814815 \n",
      "Iter:    39 | Cost: 0.2783845 \n",
      "Iter:    40 | Cost: 0.2756593 \n",
      "Iter:    41 | Cost: 0.2732932 \n",
      "Iter:    42 | Cost: 0.2712575 \n",
      "Iter:    43 | Cost: 0.2695115 \n",
      "Iter:    44 | Cost: 0.2680061 \n",
      "Iter:    45 | Cost: 0.2666881 \n",
      "Iter:    46 | Cost: 0.2655046 \n",
      "Iter:    47 | Cost: 0.2644062 \n",
      "Iter:    48 | Cost: 0.2633506 \n",
      "Iter:    49 | Cost: 0.2623040 \n",
      "Iter:    50 | Cost: 0.2612427 \n"
     ]
    }
   ],
   "source": [
    "opt = AdamOptimizer(0.01, beta1=0.9, beta2=0.999)\n",
    "\n",
    "var = var_init\n",
    "for it in range(50):\n",
    "    var = opt.step(lambda v: cost(v, X, Y), var)\n",
    "    print(\"Iter: {:5d} | Cost: {:0.7f} \".format(it + 1, cost(var, X, Y)))"
   ]
  },
  {
   "cell_type": "code",
   "execution_count": 12,
   "metadata": {
    "colab": {},
    "colab_type": "code",
    "collapsed": false,
    "id": "yKeXcyIQQMb4",
    "jupyter": {
     "outputs_hidden": false
    }
   },
   "outputs": [],
   "source": [
    "x_pred = np.linspace(-1, 1, 50)\n",
    "predictions = [quantum_neural_net(var, x=x_) for x_ in x_pred]"
   ]
  },
  {
   "cell_type": "markdown",
   "metadata": {
    "colab_type": "text",
    "id": "QwCEDB48QMcF"
   },
   "source": [
    "and plot the shape of the function that the model has “learned” from\n",
    "the noisy data (green dots).\n",
    "\n"
   ]
  },
  {
   "cell_type": "code",
   "execution_count": 13,
   "metadata": {
    "colab": {},
    "colab_type": "code",
    "collapsed": false,
    "id": "gN1VoBYDQMcL",
    "jupyter": {
     "outputs_hidden": false
    }
   },
   "outputs": [
    {
     "data": {
      "image/png": "[encoded data removed]",
      "text/plain": [
       "<Figure size 432x288 with 1 Axes>"
      ]
     },
     "metadata": {
      "needs_background": "light"
     },
     "output_type": "display_data"
    }
   ],
   "source": [
    "plt.figure()\n",
    "plt.scatter(X, Y)\n",
    "plt.scatter(x_pred, predictions, color=\"green\")\n",
    "plt.xlabel(\"x\")\n",
    "plt.ylabel(\"f(x)\")\n",
    "plt.tick_params(axis=\"both\", which=\"major\")\n",
    "plt.tick_params(axis=\"both\", which=\"minor\")\n",
    "plt.show()"
   ]
  },
  {
   "cell_type": "markdown",
   "metadata": {
    "colab_type": "text",
    "id": "XXNdE4B6QMcb"
   },
   "source": [
    "The model has learned to smooth the noisy data.\n",
    "\n",
    "In fact, we can use PennyLane to look at typical functions that the\n",
    "model produces without being trained at all. The shape of these\n",
    "functions varies significantly with the variance hyperparameter for the\n",
    "weight initialization.\n",
    "\n",
    "Setting this hyperparameter to a small value produces almost linear\n",
    "functions, since all quantum gates in the variational circuit\n",
    "approximately perform the identity transformation in that case. Larger\n",
    "values produce smoothly oscillating functions with a period that depends\n",
    "on the number of layers used (generically, the more layers, the smaller\n",
    "the period).\n",
    "\n"
   ]
  },
  {
   "cell_type": "markdown",
   "metadata": {
    "colab_type": "text",
    "id": "1_kIF_5FQMcx"
   },
   "source": []
  }
 ],
 "metadata": {
  "colab": {
   "include_colab_link": true,
   "name": "3quantum_neural_net.ipynb",
   "provenance": []
  },
  "kernelspec": {
   "display_name": "Python 3",
   "language": "python",
   "name": "python3"
  },
  "language_info": {
   "codemirror_mode": {
    "name": "ipython",
    "version": 3
   },
   "file_extension": ".py",
   "mimetype": "text/x-python",
   "name": "python",
   "nbconvert_exporter": "python",
   "pygments_lexer": "ipython3",
   "version": "3.6.9"
  }
 },
 "nbformat": 4,
 "nbformat_minor": 4
}
