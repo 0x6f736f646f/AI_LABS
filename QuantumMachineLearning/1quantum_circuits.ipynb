{
  "nbformat": 4,
  "nbformat_minor": 0,
  "metadata": {
    "kernelspec": {
      "display_name": "Python 3",
      "language": "python",
      "name": "python3"
    },
    "language_info": {
      "codemirror_mode": {
        "name": "ipython",
        "version": 3
      },
      "file_extension": ".py",
      "mimetype": "text/x-python",
      "name": "python",
      "nbconvert_exporter": "python",
      "pygments_lexer": "ipython3",
      "version": "3.6.9"
    },
    "colab": {
      "name": "1quantum_circuits.ipynb",
      "provenance": [],
      "include_colab_link": true
    }
  },
  "cells": [
    {
      "cell_type": "markdown",
      "metadata": {
        "id": "view-in-github",
        "colab_type": "text"
      },
      "source": [
        "<a href=\"https://colab.research.google.com/github/0x6f736f646f/AI_LABS/blob/master/QuantumMachineLearning/1quantum_circuits.ipynb\" target=\"_parent\"><img src=\"https://colab.research.google.com/assets/colab-badge.svg\" alt=\"Open In Colab\"/></a>"
      ]
    },
    {
      "cell_type": "code",
      "metadata": {
        "collapsed": true,
        "jupyter": {
          "outputs_hidden": true
        },
        "id": "Zc8gbf1KQKI7",
        "colab_type": "code",
        "colab": {},
        "outputId": "4a22695f-3d3f-4a5b-af74-2e9bf92161de"
      },
      "source": [
        "!pip3 install qiskit"
      ],
      "execution_count": 0,
      "outputs": [
        {
          "output_type": "stream",
          "text": [
            "Requirement already satisfied: qiskit in /home/r0x6f736f646f/.local/lib/python3.6/site-packages\n",
            "Collecting qiskit-aer==0.3.2 (from qiskit)\n",
            "  Using cached https://files.pythonhosted.org/packages/18/2f/63ee86a48d131f0d6772ed9aba947d2e8457d17408add32c1d0d44822c84/qiskit_aer-0.3.2-cp36-cp36m-manylinux1_x86_64.whl\n",
            "Collecting qiskit-ibmq-provider==0.3.3 (from qiskit)\n",
            "Requirement already satisfied: qiskit-ignis==0.2.0 in /home/r0x6f736f646f/.local/lib/python3.6/site-packages (from qiskit)\n",
            "Collecting qiskit-terra==0.10.0 (from qiskit)\n",
            "  Using cached https://files.pythonhosted.org/packages/09/97/1be77cc1b22f3bd341024b1bae89d71ca9ee147ac047f793364cadc873a8/qiskit_terra-0.10.0-cp36-cp36m-manylinux1_x86_64.whl\n",
            "Requirement already satisfied: qiskit-aqua==0.6.1 in /home/r0x6f736f646f/.local/lib/python3.6/site-packages (from qiskit)\n",
            "Requirement already satisfied: numpy>=1.13 in /home/r0x6f736f646f/.local/lib/python3.6/site-packages (from qiskit-aer==0.3.2->qiskit)\n",
            "Collecting nest-asyncio==1.0.0 (from qiskit-ibmq-provider==0.3.3->qiskit)\n",
            "  Using cached https://files.pythonhosted.org/packages/62/18/4c6a895c925e8822e72535d774861e9ca07089c4b938ed20002b1aaab66a/nest_asyncio-1.0.0-py3-none-any.whl\n",
            "Requirement already satisfied: requests>=2.19 in /usr/local/lib/python3.6/dist-packages (from qiskit-ibmq-provider==0.3.3->qiskit)\n",
            "Requirement already satisfied: requests-ntlm>=1.1.0 in /home/r0x6f736f646f/.local/lib/python3.6/site-packages (from qiskit-ibmq-provider==0.3.3->qiskit)\n",
            "Collecting websockets<8,>=7 (from qiskit-ibmq-provider==0.3.3->qiskit)\n",
            "  Using cached https://files.pythonhosted.org/packages/43/71/8bfa882b9c502c36e5c9ef6732969533670d2b039cbf95a82ced8f762b80/websockets-7.0-cp36-cp36m-manylinux1_x86_64.whl\n",
            "Requirement already satisfied: scipy!=0.19.1,>=0.19 in /home/r0x6f736f646f/.local/lib/python3.6/site-packages (from qiskit-ignis==0.2.0->qiskit)\n",
            "Requirement already satisfied: setuptools>=40.1.0 in /home/r0x6f736f646f/.local/lib/python3.6/site-packages (from qiskit-ignis==0.2.0->qiskit)\n",
            "Requirement already satisfied: sympy>=1.3 in /home/r0x6f736f646f/.local/lib/python3.6/site-packages (from qiskit-terra==0.10.0->qiskit)\n",
            "Requirement already satisfied: ply>=3.10 in /home/r0x6f736f646f/.local/lib/python3.6/site-packages (from qiskit-terra==0.10.0->qiskit)\n",
            "Requirement already satisfied: psutil>=5 in /home/r0x6f736f646f/.local/lib/python3.6/site-packages (from qiskit-terra==0.10.0->qiskit)\n",
            "Requirement already satisfied: networkx>=2.2 in /home/r0x6f736f646f/.local/lib/python3.6/site-packages (from qiskit-terra==0.10.0->qiskit)\n",
            "Requirement already satisfied: marshmallow-polyfield<6,>=5.7 in /home/r0x6f736f646f/.local/lib/python3.6/site-packages (from qiskit-terra==0.10.0->qiskit)\n",
            "Requirement already satisfied: jsonschema>=2.6 in /home/r0x6f736f646f/.local/lib/python3.6/site-packages (from qiskit-terra==0.10.0->qiskit)\n",
            "Requirement already satisfied: marshmallow<4,>=3 in /home/r0x6f736f646f/.local/lib/python3.6/site-packages (from qiskit-terra==0.10.0->qiskit)\n",
            "Requirement already satisfied: docplex in /home/r0x6f736f646f/.local/lib/python3.6/site-packages (from qiskit-aqua==0.6.1->qiskit)\n",
            "Requirement already satisfied: pyscf; sys_platform != \"win32\" in /home/r0x6f736f646f/.local/lib/python3.6/site-packages (from qiskit-aqua==0.6.1->qiskit)\n",
            "Requirement already satisfied: cvxopt in /home/r0x6f736f646f/.local/lib/python3.6/site-packages (from qiskit-aqua==0.6.1->qiskit)\n",
            "Requirement already satisfied: quandl in /home/r0x6f736f646f/.local/lib/python3.6/site-packages (from qiskit-aqua==0.6.1->qiskit)\n",
            "Requirement already satisfied: fastdtw in /home/r0x6f736f646f/.local/lib/python3.6/site-packages (from qiskit-aqua==0.6.1->qiskit)\n",
            "Requirement already satisfied: dlx in /home/r0x6f736f646f/.local/lib/python3.6/site-packages (from qiskit-aqua==0.6.1->qiskit)\n",
            "Requirement already satisfied: scikit-learn>=0.20.0 in /home/r0x6f736f646f/.local/lib/python3.6/site-packages (from qiskit-aqua==0.6.1->qiskit)\n",
            "Requirement already satisfied: h5py in /home/r0x6f736f646f/.local/lib/python3.6/site-packages (from qiskit-aqua==0.6.1->qiskit)\n",
            "Requirement already satisfied: certifi>=2017.4.17 in /home/r0x6f736f646f/.local/lib/python3.6/site-packages (from requests>=2.19->qiskit-ibmq-provider==0.3.3->qiskit)\n",
            "Requirement already satisfied: idna<3,>=2.5 in /usr/local/lib/python3.6/dist-packages (from requests>=2.19->qiskit-ibmq-provider==0.3.3->qiskit)\n",
            "Requirement already satisfied: urllib3!=1.25.0,!=1.25.1,<1.26,>=1.21.1 in /home/r0x6f736f646f/.local/lib/python3.6/site-packages (from requests>=2.19->qiskit-ibmq-provider==0.3.3->qiskit)\n",
            "Requirement already satisfied: chardet<4,>=3.0.2 in /home/r0x6f736f646f/.local/lib/python3.6/site-packages (from requests>=2.19->qiskit-ibmq-provider==0.3.3->qiskit)\n",
            "Requirement already satisfied: ntlm-auth>=1.0.2 in /home/r0x6f736f646f/.local/lib/python3.6/site-packages (from requests-ntlm>=1.1.0->qiskit-ibmq-provider==0.3.3->qiskit)\n",
            "Requirement already satisfied: cryptography>=1.3 in /home/r0x6f736f646f/.local/lib/python3.6/site-packages (from requests-ntlm>=1.1.0->qiskit-ibmq-provider==0.3.3->qiskit)\n",
            "Requirement already satisfied: mpmath>=0.19 in /home/r0x6f736f646f/.local/lib/python3.6/site-packages (from sympy>=1.3->qiskit-terra==0.10.0->qiskit)\n",
            "Requirement already satisfied: decorator>=4.3.0 in /home/r0x6f736f646f/.local/lib/python3.6/site-packages (from networkx>=2.2->qiskit-terra==0.10.0->qiskit)\n",
            "Requirement already satisfied: six in /usr/local/lib/python3.6/dist-packages (from marshmallow-polyfield<6,>=5.7->qiskit-terra==0.10.0->qiskit)\n",
            "Requirement already satisfied: pyrsistent>=0.14.0 in /home/r0x6f736f646f/.local/lib/python3.6/site-packages (from jsonschema>=2.6->qiskit-terra==0.10.0->qiskit)\n",
            "Requirement already satisfied: attrs>=17.4.0 in /home/r0x6f736f646f/.local/lib/python3.6/site-packages (from jsonschema>=2.6->qiskit-terra==0.10.0->qiskit)\n",
            "Requirement already satisfied: importlib-metadata; python_version < \"3.8\" in /home/r0x6f736f646f/.local/lib/python3.6/site-packages (from jsonschema>=2.6->qiskit-terra==0.10.0->qiskit)\n",
            "Requirement already satisfied: docloud>=1.0.375 in /home/r0x6f736f646f/.local/lib/python3.6/site-packages (from docplex->qiskit-aqua==0.6.1->qiskit)\n",
            "Requirement already satisfied: pyOpenSSL in /home/r0x6f736f646f/.local/lib/python3.6/site-packages (from quandl->qiskit-aqua==0.6.1->qiskit)\n",
            "Collecting more-itertools<=5.0.0 (from quandl->qiskit-aqua==0.6.1->qiskit)\n",
            "\u001b[33m  Cache entry deserialization failed, entry ignored\u001b[0m\n",
            "  Using cached https://files.pythonhosted.org/packages/a4/a6/42f17d065bda1fac255db13afc94c93dbfb64393eae37c749b4cb0752fc7/more_itertools-5.0.0-py3-none-any.whl\n",
            "Requirement already satisfied: inflection>=0.3.1 in /home/r0x6f736f646f/.local/lib/python3.6/site-packages (from quandl->qiskit-aqua==0.6.1->qiskit)\n",
            "Requirement already satisfied: pandas>=0.14 in /home/r0x6f736f646f/.local/lib/python3.6/site-packages (from quandl->qiskit-aqua==0.6.1->qiskit)\n",
            "Requirement already satisfied: pyasn1 in /home/r0x6f736f646f/.local/lib/python3.6/site-packages (from quandl->qiskit-aqua==0.6.1->qiskit)\n",
            "Requirement already satisfied: python-dateutil in /home/r0x6f736f646f/.local/lib/python3.6/site-packages (from quandl->qiskit-aqua==0.6.1->qiskit)\n",
            "Requirement already satisfied: ndg-httpsclient in /home/r0x6f736f646f/.local/lib/python3.6/site-packages (from quandl->qiskit-aqua==0.6.1->qiskit)\n",
            "Requirement already satisfied: joblib>=0.11 in /home/r0x6f736f646f/.local/lib/python3.6/site-packages (from scikit-learn>=0.20.0->qiskit-aqua==0.6.1->qiskit)\n",
            "Requirement already satisfied: cffi!=1.11.3,>=1.8 in /home/r0x6f736f646f/.local/lib/python3.6/site-packages (from cryptography>=1.3->requests-ntlm>=1.1.0->qiskit-ibmq-provider==0.3.3->qiskit)\n",
            "Requirement already satisfied: zipp>=0.5 in /usr/local/lib/python3.6/dist-packages (from importlib-metadata; python_version < \"3.8\"->jsonschema>=2.6->qiskit-terra==0.10.0->qiskit)\n",
            "Requirement already satisfied: pytz>=2017.2 in /home/r0x6f736f646f/.local/lib/python3.6/site-packages (from pandas>=0.14->quandl->qiskit-aqua==0.6.1->qiskit)\n",
            "Requirement already satisfied: pycparser in /home/r0x6f736f646f/.local/lib/python3.6/site-packages (from cffi!=1.11.3,>=1.8->cryptography>=1.3->requests-ntlm>=1.1.0->qiskit-ibmq-provider==0.3.3->qiskit)\n",
            "Installing collected packages: qiskit-aer, nest-asyncio, qiskit-terra, websockets, qiskit-ibmq-provider, more-itertools\n",
            "  Found existing installation: qiskit-aer 0.3.4\n",
            "    Uninstalling qiskit-aer-0.3.4:\n",
            "      Successfully uninstalled qiskit-aer-0.3.4\n",
            "  Rolling back uninstall of qiskit-aer\n",
            "\u001b[31mException:\n",
            "Traceback (most recent call last):\n",
            "  File \"/home/r0x6f736f646f/.local/lib/python3.6/site-packages/pip/basecommand.py\", line 215, in main\n",
            "    status = self.run(options, args)\n",
            "  File \"/home/r0x6f736f646f/.local/lib/python3.6/site-packages/pip/commands/install.py\", line 342, in run\n",
            "    prefix=options.prefix_path,\n",
            "  File \"/home/r0x6f736f646f/.local/lib/python3.6/site-packages/pip/req/req_set.py\", line 784, in install\n",
            "    **kwargs\n",
            "  File \"/home/r0x6f736f646f/.local/lib/python3.6/site-packages/pip/req/req_install.py\", line 851, in install\n",
            "    self.move_wheel_files(self.source_dir, root=root, prefix=prefix)\n",
            "  File \"/home/r0x6f736f646f/.local/lib/python3.6/site-packages/pip/req/req_install.py\", line 1064, in move_wheel_files\n",
            "    isolated=self.isolated,\n",
            "  File \"/home/r0x6f736f646f/.local/lib/python3.6/site-packages/pip/wheel.py\", line 345, in move_wheel_files\n",
            "    clobber(source, lib_dir, True)\n",
            "  File \"/home/r0x6f736f646f/.local/lib/python3.6/site-packages/pip/wheel.py\", line 316, in clobber\n",
            "    ensure_dir(destdir)\n",
            "  File \"/home/r0x6f736f646f/.local/lib/python3.6/site-packages/pip/utils/__init__.py\", line 83, in ensure_dir\n",
            "    os.makedirs(path)\n",
            "  File \"/usr/lib/python3.6/os.py\", line 210, in makedirs\n",
            "    makedirs(head, mode, exist_ok)\n",
            "  File \"/usr/lib/python3.6/os.py\", line 210, in makedirs\n",
            "    makedirs(head, mode, exist_ok)\n",
            "  File \"/usr/lib/python3.6/os.py\", line 220, in makedirs\n",
            "    mkdir(name, mode)\n",
            "PermissionError: [Errno 13] Permission denied: '/usr/local/lib/python3.6/dist-packages/qiskit'\u001b[0m\n",
            "\u001b[33mYou are using pip version 9.0.3, however version 20.0.2 is available.\n",
            "You should consider upgrading via the 'pip install --upgrade pip' command.\u001b[0m\n"
          ],
          "name": "stdout"
        }
      ]
    },
    {
      "cell_type": "markdown",
      "metadata": {
        "id": "EV5IruPAQKJM",
        "colab_type": "text"
      },
      "source": [
        "## Getting started with qiskit\n",
        "Here we will get the overview of qiskit and build a fundamental unit of qiskit, quantum circuit.\n",
        "We need to build the execute"
      ]
    },
    {
      "cell_type": "code",
      "metadata": {
        "id": "osZ6zPgUQKJO",
        "colab_type": "code",
        "colab": {}
      },
      "source": [
        "import numpy as np\n",
        "from qiskit import *\n",
        "%matplotlib inline"
      ],
      "execution_count": 0,
      "outputs": []
    },
    {
      "cell_type": "code",
      "metadata": {
        "id": "TfL5-cFjQKJY",
        "colab_type": "code",
        "colab": {}
      },
      "source": [
        "# We create q quantum circuit on a quantum register with 4 qubits\n",
        "circuit = QuantumCircuit(4)"
      ],
      "execution_count": 0,
      "outputs": []
    },
    {
      "cell_type": "markdown",
      "metadata": {
        "id": "rGahr0OPQKJf",
        "colab_type": "text"
      },
      "source": [
        "We can now add gates to manipulate the register.\n",
        "eg Hadamard, Controlled not "
      ]
    },
    {
      "cell_type": "code",
      "metadata": {
        "id": "bR_jT6TdQKJj",
        "colab_type": "code",
        "colab": {},
        "outputId": "1525e25e-696a-4bc3-80dc-1c30b3bcc305"
      },
      "source": [
        "# we have added a Hadamard gate to the first qubit (Superposition)\n",
        "circuit.h(0)\n",
        "# we add a CNOT gate on 0 and 1 (Bell state)\n",
        "circuit.cx(0,1)\n",
        "# CNOT on 0 and 2\n",
        "circuit.cx(0,2)"
      ],
      "execution_count": 0,
      "outputs": [
        {
          "output_type": "execute_result",
          "data": {
            "text/plain": [
              "<qiskit.circuit.instructionset.InstructionSet at 0x7f8934a10b00>"
            ]
          },
          "metadata": {
            "tags": []
          },
          "execution_count": 4
        }
      ]
    },
    {
      "cell_type": "code",
      "metadata": {
        "id": "axuw_lN7QKJs",
        "colab_type": "code",
        "colab": {},
        "outputId": "e149e4ea-23bb-4dc6-c8d3-43945df9b972"
      },
      "source": [
        "# Lets see what we have made\n",
        "circuit.draw()"
      ],
      "execution_count": 0,
      "outputs": [
        {
          "output_type": "execute_result",
          "data": {
            "image/png": "[encoded data removed]",
            "text/plain": [
              "<Figure size 337.12x264.88 with 1 Axes>"
            ]
          },
          "metadata": {
            "tags": []
          },
          "execution_count": 5
        }
      ]
    },
    {
      "cell_type": "markdown",
      "metadata": {
        "id": "egyk1KK_QKJ0",
        "colab_type": "text"
      },
      "source": [
        "Note: If you don't have matplotlib set up as your default in '~/.qiskit/settings.conf' it will use a text-based drawer over matplotlib. To set the default to matplotlib, use the following in the settings.conf\n",
        "[default]\n",
        "circuit_drawer = mpl"
      ]
    },
    {
      "cell_type": "markdown",
      "metadata": {
        "id": "kN0V3q7lQKJ6",
        "colab_type": "text"
      },
      "source": [
        "## Simulating circuit using qiskit Aer which provides many backends\n",
        "We will use `statevector_simulator` which is the most common which returns quantum states "
      ]
    },
    {
      "cell_type": "code",
      "metadata": {
        "id": "2Dztd3JhQKJ8",
        "colab_type": "code",
        "colab": {}
      },
      "source": [
        "from qiskit import Aer\n",
        "\n",
        "# Run the circuit\n",
        "backend = Aer.get_backend('statevector_simulator')\n",
        "\n",
        "#Create execution\n",
        "job = execute(circuit, backend)"
      ],
      "execution_count": 0,
      "outputs": []
    },
    {
      "cell_type": "code",
      "metadata": {
        "id": "v5hI-91IQKKD",
        "colab_type": "code",
        "colab": {},
        "outputId": "82210f58-1d21-49f3-eff5-742e1a16b9d2"
      },
      "source": [
        "#Monitor our job with\n",
        "job.status()"
      ],
      "execution_count": 0,
      "outputs": [
        {
          "output_type": "execute_result",
          "data": {
            "text/plain": [
              "<JobStatus.DONE: 'job has successfully run'>"
            ]
          },
          "metadata": {
            "tags": []
          },
          "execution_count": 7
        }
      ]
    },
    {
      "cell_type": "code",
      "metadata": {
        "id": "oRfTf55uQKKL",
        "colab_type": "code",
        "colab": {}
      },
      "source": [
        "# get results\n",
        "result = job.result()"
      ],
      "execution_count": 0,
      "outputs": []
    },
    {
      "cell_type": "code",
      "metadata": {
        "id": "WB_I0xr3QKKU",
        "colab_type": "code",
        "colab": {},
        "outputId": "fde421ba-fe49-4290-99c0-4723a2408b14"
      },
      "source": [
        "outputs = result.get_statevector(circuit)\n",
        "print(outputs)"
      ],
      "execution_count": 0,
      "outputs": [
        {
          "output_type": "stream",
          "text": [
            "[0.70710678+0.j 0.        +0.j 0.        +0.j 0.        +0.j\n",
            " 0.        +0.j 0.        +0.j 0.        +0.j 0.70710678+0.j\n",
            " 0.        +0.j 0.        +0.j 0.        +0.j 0.        +0.j\n",
            " 0.        +0.j 0.        +0.j 0.        +0.j 0.        +0.j]\n"
          ],
          "name": "stdout"
        }
      ]
    },
    {
      "cell_type": "markdown",
      "metadata": {
        "id": "iNcxtI4gQKKd",
        "colab_type": "text"
      },
      "source": [
        "## OpenQASM backend\n",
        "It provides information about the state output by the ideal circuit and the matrix representation of the circuit"
      ]
    },
    {
      "cell_type": "code",
      "metadata": {
        "id": "ZAw-eWTnQKKf",
        "colab_type": "code",
        "colab": {},
        "outputId": "293dac5b-3140-4837-b3df-a407d3eee67f"
      },
      "source": [
        "circuit1 = QuantumCircuit(3,3)\n",
        "circuit1.h(0)\n",
        "circuit1.cx(0,1)\n",
        "circuit1.cx(1,2)\n",
        "circuit1.barrier(range(3))\n",
        "# map quantum measurements to the classical bits\n",
        "circuit1.measure(range(3), range(3))\n",
        "circuit1.draw()"
      ],
      "execution_count": 0,
      "outputs": [
        {
          "output_type": "execute_result",
          "data": {
            "image/png": "[encoded data removed]",
            "text/plain": [
              "<Figure size 577.92x264.88 with 1 Axes>"
            ]
          },
          "metadata": {
            "tags": []
          },
          "execution_count": 10
        }
      ]
    },
    {
      "cell_type": "code",
      "metadata": {
        "id": "OAvjr3b2QKKn",
        "colab_type": "code",
        "colab": {}
      },
      "source": [
        "backend2 = Aer.get_backend('qasm_simulator')\n",
        "# we repeate the circuit 2048 times\n",
        "job2 = execute(circuit1, backend2, shots= 2048)\n",
        "result2 = job2.result()"
      ],
      "execution_count": 0,
      "outputs": []
    },
    {
      "cell_type": "code",
      "metadata": {
        "id": "TpmcH7nQQKKt",
        "colab_type": "code",
        "colab": {},
        "outputId": "9edf794c-5ed7-443b-ba7c-084721f410ef"
      },
      "source": [
        "from qiskit.visualization import plot_histogram\n",
        "plot_histogram(result2.get_counts(circuit1))"
      ],
      "execution_count": 0,
      "outputs": [
        {
          "output_type": "execute_result",
          "data": {
            "image/png": "[encoded data removed]",
            "text/plain": [
              "<Figure size 504x360 with 1 Axes>"
            ]
          },
          "metadata": {
            "tags": []
          },
          "execution_count": 12
        }
      ]
    },
    {
      "cell_type": "markdown",
      "metadata": {
        "id": "DHG7WtlRQKKz",
        "colab_type": "text"
      },
      "source": [
        "## Running on IBMQ"
      ]
    },
    {
      "cell_type": "code",
      "metadata": {
        "id": "kVxSxcrrQKK1",
        "colab_type": "code",
        "colab": {}
      },
      "source": [
        "from qiskit import IBMQ"
      ],
      "execution_count": 0,
      "outputs": []
    },
    {
      "cell_type": "markdown",
      "metadata": {
        "id": "Xeh6GKK5QKK-",
        "colab_type": "text"
      },
      "source": [
        "After generating your API token, call: IBMQ.save_account('MY_TOKEN').\n",
        "\n",
        "This will store your IBM Q credentials in a local file."
      ]
    },
    {
      "cell_type": "code",
      "metadata": {
        "id": "keIqj66QQKLB",
        "colab_type": "code",
        "colab": {},
        "outputId": "80172e1a-16d0-445f-8ac9-b8dc234c3c9b"
      },
      "source": [
        "IBMQ.load_account()"
      ],
      "execution_count": 0,
      "outputs": [
        {
          "output_type": "stream",
          "text": [
            "/home/r0x6f736f646f/.local/lib/python3.6/site-packages/qiskit/providers/models/backendconfiguration.py:337: UserWarning: `dt` and `dtm` now have units of seconds(s) rather than nanoseconds(ns).\n",
            "  warnings.warn('`dt` and `dtm` now have units of seconds(s) rather '\n"
          ],
          "name": "stderr"
        },
        {
          "output_type": "execute_result",
          "data": {
            "text/plain": [
              "<AccountProvider for IBMQ(hub='ibm-q', group='open', project='main')>"
            ]
          },
          "metadata": {
            "tags": []
          },
          "execution_count": 14
        }
      ]
    },
    {
      "cell_type": "code",
      "metadata": {
        "id": "QmVDUXfmQKLJ",
        "colab_type": "code",
        "colab": {},
        "outputId": "9907aae0-4045-42fe-968e-5dd6dcfb843b"
      },
      "source": [
        "IBMQ.providers()"
      ],
      "execution_count": 0,
      "outputs": [
        {
          "output_type": "execute_result",
          "data": {
            "text/plain": [
              "[<AccountProvider for IBMQ(hub='ibm-q', group='open', project='main')>]"
            ]
          },
          "metadata": {
            "tags": []
          },
          "execution_count": 15
        }
      ]
    },
    {
      "cell_type": "code",
      "metadata": {
        "id": "MIyniQbwQKLR",
        "colab_type": "code",
        "colab": {},
        "outputId": "fa10f666-c570-416a-9878-f253a5842862"
      },
      "source": [
        "provider = IBMQ.get_provider(group='open')\n",
        "provider.backends()"
      ],
      "execution_count": 0,
      "outputs": [
        {
          "output_type": "execute_result",
          "data": {
            "text/plain": [
              "[<IBMQSimulator('ibmq_qasm_simulator') from IBMQ(hub='ibm-q', group='open', project='main')>,\n",
              " <IBMQBackend('ibmqx2') from IBMQ(hub='ibm-q', group='open', project='main')>,\n",
              " <IBMQBackend('ibmq_16_melbourne') from IBMQ(hub='ibm-q', group='open', project='main')>,\n",
              " <IBMQBackend('ibmq_vigo') from IBMQ(hub='ibm-q', group='open', project='main')>,\n",
              " <IBMQBackend('ibmq_ourense') from IBMQ(hub='ibm-q', group='open', project='main')>,\n",
              " <IBMQBackend('ibmq_london') from IBMQ(hub='ibm-q', group='open', project='main')>,\n",
              " <IBMQBackend('ibmq_burlington') from IBMQ(hub='ibm-q', group='open', project='main')>,\n",
              " <IBMQBackend('ibmq_essex') from IBMQ(hub='ibm-q', group='open', project='main')>,\n",
              " <IBMQBackend('ibmq_armonk') from IBMQ(hub='ibm-q', group='open', project='main')>]"
            ]
          },
          "metadata": {
            "tags": []
          },
          "execution_count": 16
        }
      ]
    },
    {
      "cell_type": "code",
      "metadata": {
        "id": "RzNooCplQKLW",
        "colab_type": "code",
        "colab": {}
      },
      "source": [
        "backend3 = provider.get_backend('ibmq_16_melbourne')"
      ],
      "execution_count": 0,
      "outputs": []
    },
    {
      "cell_type": "code",
      "metadata": {
        "id": "kqm9vMbTQKLc",
        "colab_type": "code",
        "colab": {},
        "outputId": "f3173ab5-fc50-44f2-e8b8-cdb61740c0f1"
      },
      "source": [
        "from qiskit.tools.monitor import job_monitor\n",
        "\n",
        "job3 = execute(circuit1, backend=backend3)\n",
        "job_monitor(job3)"
      ],
      "execution_count": 0,
      "outputs": [
        {
          "output_type": "stream",
          "text": [
            "Job Status: job has successfully run\n"
          ],
          "name": "stdout"
        }
      ]
    },
    {
      "cell_type": "code",
      "metadata": {
        "id": "lknu1XyPQKLh",
        "colab_type": "code",
        "colab": {}
      },
      "source": [
        "result3 = job3.result()"
      ],
      "execution_count": 0,
      "outputs": []
    },
    {
      "cell_type": "code",
      "metadata": {
        "id": "QPt3JIDVQKLn",
        "colab_type": "code",
        "colab": {}
      },
      "source": [
        "counts3= result3.get_counts(circuit1)\n",
        "plot_histogram([counts3,result3.get_counts(circuit1)], legend=['Device', 'Simulator'])"
      ],
      "execution_count": 0,
      "outputs": []
    },
    {
      "cell_type": "code",
      "metadata": {
        "id": "FYsGuHljQKLs",
        "colab_type": "code",
        "colab": {}
      },
      "source": [
        "backend4 = provider.get_backend('ibmq_qasm_simulator')"
      ],
      "execution_count": 0,
      "outputs": []
    },
    {
      "cell_type": "code",
      "metadata": {
        "id": "R1obbhzPQKLx",
        "colab_type": "code",
        "colab": {}
      },
      "source": [
        "job4 = execute(circuit1, backend=backend4)"
      ],
      "execution_count": 0,
      "outputs": []
    },
    {
      "cell_type": "code",
      "metadata": {
        "id": "_sz4qHg8QKL1",
        "colab_type": "code",
        "colab": {}
      },
      "source": [
        "result4 = job4.result()"
      ],
      "execution_count": 0,
      "outputs": []
    },
    {
      "cell_type": "code",
      "metadata": {
        "id": "QffrOz5oQKL7",
        "colab_type": "code",
        "colab": {}
      },
      "source": [
        "counts4 = result_cloud.get_counts(circuit1)\n",
        "plot_histogram(counts4)"
      ],
      "execution_count": 0,
      "outputs": []
    },
    {
      "cell_type": "code",
      "metadata": {
        "id": "-tAzXapXQKMA",
        "colab_type": "code",
        "colab": {}
      },
      "source": [
        "from qiskit.visualization import plot_bloch_multivector\n",
        "plot_bloch_multivector(counts4)"
      ],
      "execution_count": 0,
      "outputs": []
    }
  ]
}